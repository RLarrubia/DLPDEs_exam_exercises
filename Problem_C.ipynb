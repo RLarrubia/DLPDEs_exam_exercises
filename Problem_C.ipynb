{
 "cells": [
  {
   "cell_type": "markdown",
   "id": "de4e7b69-0981-4ede-95e3-394620f23535",
   "metadata": {},
   "source": [
    "# Problem C: Prediction of Traffic Flow based on Burgers’ Equation Model\n",
    "Burgers' equation is a mathematical model used in various fields, including traffic flow, to represent the behavior of nonlinear systems with both convective and diffusive effects. In traffic flow, it captures the interactions between vehicles, such as the tendency for traffic to slow down when density increases (convection) and the tendency for traffic to spread out due to individual driver behavior (diffusion). \n",
    "\n",
    "The Burger's Equation for modeling traffic flow is given as follows:\n",
    "\\begin{equation}\n",
    "u_t + uu_x = \\nu u_{xx}, \\quad x\\in (-1,1),\\ t\\in(0,1] \n",
    "\\end{equation}\n",
    "Where:\n",
    "- $u(x,t)$: car velocity (m/s),\n",
    "- $\\nu$: a diffusion coefficient (reflecting how drivers respond to nearby traffic; higher $\\nu$ = more cautious drivers),\n",
    "- $x$: position along the road,\n",
    "- $t$: time.\n",
    "\n",
    "We set $\\nu=0.1$ and consider the Dirichlet boundary condition, i.e.:\n",
    "$$\n",
    "u(x=-1, t) = u(x=1, t)=0,\\quad t\\in(0,1]\n",
    "$$\n",
    "\n",
    "With this PDE model, once the initial velocity field $u(x,t=0)=a(x)$ is given, we can predict the velocity field $u(x,t)$ at any time $t>0$ by solving Burger's equation.\n",
    "\n",
    "## Task: predicting the velocity filed $u(x,t)$ given the inital field $u(x,t=0)=a(x)$ \n",
    "In this task, we have collected many initial field $u(x,t=0)=a(x)$ which are sampled from a distribution $\\mathcal{A}$. We have also computed the corresponding velocity field $u(x,t)$ by solving Burger's equation with a high-precision FDM method. Now, we hope to make a fast prediction of the velocity field $u(x,t)$ once a new initial condition $a(x)$ is given from the same distribution.\n",
    "\n",
    "### The goals\n",
    "- Please select a suitable deep learning method for solving this task, and explain the reason for using it\n",
    "- Report your setups for the implementation, such as network structure, activation function, optimizer (with learning rate), epoch (with batch size), loss weights, and other tricks that are used for improvement.\n",
    "- Compute the $L^2$ relative error (on testing dataset) at each training epoch and plot the ```Error vs. epcoh``` curve (and report the final error). The $L^2$ relative error between the prediction $\\{u^{(j)}_{pred}\\}^{N}_{j}$ and the truth $\\{u^{(j)}_{true}\\}^{N}_j$ is defined as follows:\n",
    "  $$error = \\frac{1}{N}\\sum_j\\sqrt{\\frac{\\sum_i|u^{(j)}_{pred}(x_i, t_i)-u^{(j)}_{true}(x_i,t_i)|^2}{\\sum_i|u^{(j)}_{true}(x_i, t_i)|^2}}$$\n",
    " where $j$ indicates the $j$-th instance.\n",
    "- Plot the initial field, the corresponding predicted solution (and the ground truth reference), and the pointwise absolute error for the first instance in the testing Dataset using separate figures with ```matplotlib```.\n",
    "\n",
    "### Dataset\n",
    "The observation and the ground truth references are given in the dataset ```TrafficFlow.h5```:\n",
    "- ```a_train```: size(1000, 128), the collected $N=1000$ initial fields (on $128$ sensors)\n",
    "- ```u_train```: size(1000, 100, 128), the collected $N=1000$ velocity fields (on $100\\times 128$ temporal-spatial regular meshgrids)\n",
    "- ```a_test```: size(200, 128), the initial fields that we are going to predict their corresponding velocity field (Should not be used for training)\n",
    "- ```u_test```: size(200, 100, 128), the ground truth reference of the velocity field (Should not be used for training)\n",
    "- ```x_mesh```: size(128, 1), the spatial-coordiante of locations where the velocity field computed\n",
    "- ```t_mesh```: size(100, 1), the temporal-coordiante of locations where the velocity field computed\n",
    "- Link to dataset: [https://www.kaggle.com/datasets/yhzang32/dno4pdes](https://www.kaggle.com/datasets/yhzang32/dno4pdes)"
   ]
  },
  {
   "cell_type": "markdown",
   "id": "2e10c690",
   "metadata": {},
   "source": [
    "### Importing necesary libraries"
   ]
  },
  {
   "cell_type": "code",
   "execution_count": null,
   "id": "38cf3187",
   "metadata": {},
   "outputs": [],
   "source": [
    "import os\n",
    "import time\n",
    "import numpy as np\n",
    "from tqdm import trange\n",
    "import torch.nn as nn\n",
    "import h5py\n",
    "import torch \n",
    "import matplotlib.pyplot as plt\n",
    "from torch.utils.data import Dataset, DataLoader\n",
    "\n",
    "device = 'cuda'\n",
    "torch.manual_seed(1234)\n",
    "dtype = torch.float32\n",
    "current_workspace = os.getcwd()"
   ]
  },
  {
   "cell_type": "markdown",
   "id": "5d739e42",
   "metadata": {},
   "source": [
    "### Creating and importing the data"
   ]
  },
  {
   "cell_type": "code",
   "execution_count": 2,
   "id": "ba5f7d0b",
   "metadata": {},
   "outputs": [],
   "source": [
    "def get_train_data(dtype):\n",
    "    with h5py.File(os.path.join(current_workspace, \"Datasets\", \"TrafficFlow.h5\"), \"r\") as f:\n",
    "        # Train data\n",
    "        a_train = torch.tensor(f[\"a_train\"][:], dtype=dtype)   \n",
    "        u_train = torch.tensor(f[\"u_train\"][:], dtype=dtype)   \n",
    "\n",
    "        # Test data \n",
    "        a_test  = torch.tensor(f[\"a_test\"][:],  dtype=dtype)\n",
    "        u_test  = torch.tensor(f[\"u_test\"][:],  dtype=dtype)\n",
    "\n",
    "        # The coordinates\n",
    "        T_coords = np.array(f[\"t_mesh\"]).squeeze()   \n",
    "        X_coords = np.array(f[\"x_mesh\"]).squeeze()   \n",
    "\n",
    "    n_train = a_train.shape[0]\n",
    "    n_test  = a_test.shape[0]\n",
    "\n",
    "    a_train = a_train.reshape(n_train, -1)\n",
    "    u_train = u_train.reshape(n_train, -1)\n",
    "\n",
    "    a_test  = a_test.reshape(n_test,  -1)\n",
    "    u_test  = u_test.reshape(n_test,  -1)\n",
    "\n",
    "    T_grid, X_grid = np.meshgrid(T_coords, X_coords, indexing=\"ij\")  # (100,128)\n",
    "    mesh = np.stack([T_grid.ravel(), X_grid.ravel()], axis=-1)\n",
    "    x = torch.tensor(mesh, dtype=dtype)\n",
    "\n",
    "    return a_train, u_train, a_test, u_test, x, T_grid, X_grid"
   ]
  },
  {
   "cell_type": "markdown",
   "id": "467c2be3",
   "metadata": {},
   "source": [
    "To transform the 1D input function into a 2D input funciton to be used with the DeepONet method"
   ]
  },
  {
   "cell_type": "code",
   "execution_count": 3,
   "id": "49ba746e",
   "metadata": {},
   "outputs": [],
   "source": [
    "def transform_data(a_train, a_test, T):\n",
    "    \"\"\"\n",
    "    a_train, a_test : (N, nx)   -------------->  (N, nt*nx)\n",
    "    T               : (nt, nx)  para extraer nt\n",
    "    \"\"\"\n",
    "    nt = T.shape[0]\n",
    "    n_train = a_train.shape[0]\n",
    "    n_test  = a_test.shape[0]\n",
    "\n",
    "    a_train_ext = (a_train[:, None, :].repeat(1, nt, 1).reshape(n_train, -1))\n",
    "    a_test_ext = (a_test[:, None, :].repeat(1, nt, 1).reshape(n_test,  -1))\n",
    "\n",
    "    return a_train_ext, a_test_ext"
   ]
  },
  {
   "cell_type": "code",
   "execution_count": 4,
   "id": "ecedb56b",
   "metadata": {},
   "outputs": [],
   "source": [
    "class MyDataset(Dataset):\n",
    "    def __init__(self, a:torch.tensor, u:torch.tensor):\n",
    "        '''\n",
    "        Input:\n",
    "            a: size(batch_size, a_size)\n",
    "            u: size(batch_size, u_size)\n",
    "        '''\n",
    "        self.a = a \n",
    "        self.u = u\n",
    "    \n",
    "    def __getitem__(self, index):\n",
    "        return self.a[index], self.u[index]\n",
    "\n",
    "    def __len__(self):\n",
    "        return self.a.shape[0]"
   ]
  },
  {
   "cell_type": "markdown",
   "id": "3839e315",
   "metadata": {},
   "source": [
    "Ploting an input function and the corresponding true solution"
   ]
  },
  {
   "cell_type": "code",
   "execution_count": 5,
   "id": "82b2c27d",
   "metadata": {},
   "outputs": [],
   "source": [
    "def plot_case(a_show, u_show, X, T):\n",
    "    nt, nx = T.shape\n",
    "    a_grid = a_show.view(nt, nx).numpy()   # (nt, nx)\n",
    "    u_grid = u_show.view(nt, nx).numpy()   # (nt, nx)\n",
    "\n",
    "    fig, axes = plt.subplots(1, 2, figsize=(16, 4))\n",
    "\n",
    "    cntr0 = axes[0].contourf(T, X, a_grid, cmap=\"jet\")\n",
    "    axes[0].set_title(\"Input field $a(t,x)$\")\n",
    "    axes[0].set_xlabel(\"t\")\n",
    "    axes[0].set_ylabel(\"x\")\n",
    "    plt.colorbar(cntr0, ax=axes[0])\n",
    "\n",
    "    cntr1 = axes[1].contourf(T, X, u_grid)\n",
    "    axes[1].set_title(\"Velocity field $u(t,x)$\")\n",
    "    axes[1].set_xlabel(\"t\")\n",
    "    axes[1].set_ylabel(\"x\")\n",
    "    plt.colorbar(cntr1, ax=axes[1])\n",
    "\n",
    "    plt.tight_layout()\n",
    "    plt.show()"
   ]
  },
  {
   "cell_type": "markdown",
   "id": "551f6442",
   "metadata": {},
   "source": [
    "### Defining the architecture of the DeepONet"
   ]
  },
  {
   "cell_type": "code",
   "execution_count": 6,
   "id": "d1e067f1",
   "metadata": {},
   "outputs": [],
   "source": [
    "class DeepONet(nn.Module):\n",
    "    \n",
    "    def __init__(self, layers_trunk, layers_branch, branch_type=None):\n",
    "        super(DeepONet, self).__init__()\n",
    "        # The trunk network\n",
    "        self.activation_trunk = nn.ReLU()\n",
    "        self.trunk_net(layers_trunk)\n",
    "        \n",
    "        # The branch network\n",
    "        self.activation_branch = nn.ReLU()\n",
    "        if branch_type=='cnn':\n",
    "            self.branch_net_cnn(layers_branch)\n",
    "        else:\n",
    "            self.branch_net_mlp(layers_branch)\n",
    "            \n",
    "        # The bias term\n",
    "        self.bias = torch.nn.Parameter(torch.tensor(0.0, dtype=dtype))\n",
    "\n",
    "    def branch_net_mlp(self, layers_branch):\n",
    "        '''The branch network (MLP network)'''\n",
    "        # Network Sequential\n",
    "        net = []\n",
    "        hidden_in = layers_branch[0]\n",
    "        for hidden in layers_branch[1:]:\n",
    "            net.append(nn.Linear(hidden_in, hidden, dtype=dtype))\n",
    "            net.append(self.activation_branch)\n",
    "            hidden_in = hidden\n",
    "        self.branch = nn.Sequential(*net)\n",
    "\n",
    "    def branch_net_cnn(self, layers_barnch):\n",
    "        '''The branch network (CNN network)'''\n",
    "        # Network Sequential\n",
    "        net = []\n",
    "        hidden_in = layers_barnch[0]\n",
    "        for hidden in layers_barnch[1:]:\n",
    "            net.append(nn.Conv2d(hidden_in, hidden, kernel_size=(5,5), \n",
    "                                 stride=2, dtype=dtype))\n",
    "            net.append(self.activation_branch)\n",
    "            hidden_in =  hidden \n",
    "        self.branch = nn.Sequential(*net)\n",
    "        \n",
    "    def trunk_net(self, layers_trunk):\n",
    "        '''The trunk network'''\n",
    "        # Network Sequential\n",
    "        net = []\n",
    "        hidden_in = layers_trunk[0]\n",
    "        for hidden in layers_trunk[1:]:\n",
    "            net.append(nn.Linear(hidden_in, hidden, dtype=dtype))\n",
    "            net.append(self.activation_trunk)\n",
    "            hidden_in = hidden\n",
    "        self.trunk = nn.Sequential(*net)\n",
    "        \n",
    "    def forward(self, x, a):\n",
    "        ''' \n",
    "        Input:\n",
    "            x: size(mesh_size, x_size)\n",
    "            a: size(batch_size, a_size)\n",
    "        '''\n",
    "        # size(mesh_size, x_size) -> size(mesh_size, p)\n",
    "        t = self.trunk(x)\n",
    "        # size(batch_size, a_size) -> size(batch_size, p)\n",
    "        b = self.branch(a)\n",
    "        #\n",
    "        output = torch.einsum(\"bp,mp->bm\", b, t) + self.bias\n",
    "        return output\n"
   ]
  },
  {
   "cell_type": "markdown",
   "id": "264334dd",
   "metadata": {},
   "source": [
    "### Defining the supervised Loss Class for the supervised model"
   ]
  },
  {
   "cell_type": "code",
   "execution_count": 7,
   "id": "0ca58a21",
   "metadata": {},
   "outputs": [],
   "source": [
    "class LossClass(object):\n",
    "    def __init__(self, u_model, x):\n",
    "        self.device = device\n",
    "        self.u_model = u_model \n",
    "        self.x = x.to(self.device)\n",
    "        # self.getLoss = torch.nn.MSELoss()\n",
    "    \n",
    "    def loss_data(self, a_batch, u_batch):\n",
    "        '''loss term'''\n",
    "        a, u = a_batch.to(self.device), u_batch.to(self.device)\n",
    "        #\n",
    "        u_pred = self.u_model(self.x, a)\n",
    "        loss = torch.norm(u-u_pred, 2, 1)\n",
    "        loss = torch.mean(loss)\n",
    "        # loss = self.getLoss(u, u_pred)\n",
    "        return loss\n",
    "    \n",
    "    def error(self, a, u):\n",
    "        '''error term'''\n",
    "        a, u = a.to(self.device), u.to(self.device)\n",
    "        u_pred = self.u_model(self.x, a)\n",
    "        err = torch.mean(torch.sqrt(torch.sum((u_pred - u)**2, dim=1)/torch.sum(u**2, dim=1)))\n",
    "        return err "
   ]
  },
  {
   "cell_type": "markdown",
   "id": "4d58a546",
   "metadata": {},
   "source": [
    "### Creating the solver class to train the DeepONet"
   ]
  },
  {
   "cell_type": "code",
   "execution_count": 8,
   "id": "f8f0e0ae",
   "metadata": {},
   "outputs": [],
   "source": [
    "class SolverDeepONet:\n",
    "    def __init__(self, x, a_train, u_train, a_test, u_test, model, LossClass, Optimizer, Scheduler, hiperparms, device):\n",
    "        self.t0 = time.time()\n",
    "        self.device = device \n",
    "        # hiperparameters\n",
    "        self.layers_trunk = hiperparms['layers_trunk']\n",
    "        self.layers_branch = hiperparms['layers_branch']\n",
    "        self.epochs = hiperparms['epochs']\n",
    "        self.batch_size = hiperparms['batch_size']\n",
    "        self.patience = hiperparms['patience']\n",
    "        self.lr = hiperparms['lr']\n",
    "        self.weight_decay = hiperparms['weight_decay']\n",
    "        self.step_size = self.epochs // hiperparms['step_size_divider']\n",
    "        self.gamma = hiperparms['gamma']\n",
    "\n",
    "        # creating instances of necessary classes\n",
    "        self.model_u = model(self.layers_trunk, self.layers_branch).to(device)\n",
    "        self.train_loader = DataLoader(MyDataset(a_train, u_train), batch_size=self.batch_size, shuffle=True)\n",
    "        self.lossClass = LossClass(self.model_u, x.to(self.device))\n",
    "        self.optimizer = Optimizer(params=self.model_u.parameters(), lr=self.lr, weight_decay=self.weight_decay)\n",
    "        self.scheduler = Scheduler(self.optimizer, step_size=self.step_size, gamma=self.gamma)\n",
    "\n",
    "        # moving test set to device\n",
    "        self.a_test, self.u_test = a_test.to(self.device), u_test.to(self.device)\n",
    "\n",
    "        # initializing variables \n",
    "        self.loss_train_final = 0.\n",
    "        self.loss_test_final = 0.\n",
    "        self.error_test_final = 0.\n",
    "\n",
    "        self.best_err_test = 1e10\n",
    "        self.loss_train_list = []\n",
    "        self.loss_test_list = []\n",
    "        self.error_test_list = []\n",
    "\n",
    "    def train(self):\n",
    "        for epoch in trange(self.epochs):\n",
    "            loss_train = 0.\n",
    "            for a_batch, u_batch in self.train_loader:\n",
    "                a_batch, u_batch = a_batch.to(device), u_batch.to(device)\n",
    "                loss = self.lossClass.loss_data(a_batch, u_batch)\n",
    "                #\n",
    "                self.optimizer.zero_grad()\n",
    "                loss.backward()\n",
    "                self.optimizer.step()\n",
    "                #\n",
    "                loss_train += loss\n",
    "            loss_train = loss_train/len(self.train_loader)\n",
    "            self.loss_train_list.append(loss_train.item())\n",
    "\n",
    "            ## Test loss and error\n",
    "            with torch.no_grad():\n",
    "                loss_test = self.lossClass.loss_data(self.a_test, self.u_test)\n",
    "                l2_test = self.lossClass.error(self.a_test, self.u_test)\n",
    "            self.loss_test_list.append(loss_test.item())\n",
    "            self.error_test_list.append(l2_test.item())\n",
    "            \n",
    "            ## Scheduler\n",
    "            self.scheduler.step() \n",
    "            \n",
    "            ## Saving best model\n",
    "            if l2_test.item() < self.best_err_test:\n",
    "                self.best_err_test = l2_test.item()\n",
    "                epochs_no_improve = 0\n",
    "\n",
    "                self.best_model_params = self.model_u.state_dict()\n",
    "                self.error_test_final = l2_test.item()\n",
    "                self.loss_test_final = loss_train.item()\n",
    "                self.loss_test_final = loss_test.item()\n",
    "            else:\n",
    "                epochs_no_improve += 1\n",
    "\n",
    "            ## Show progress\n",
    "            if (epoch + 1) % 100 == 0 or epoch == 0:\n",
    "                current_lr = self.optimizer.param_groups[0]['lr']\n",
    "                print(f\"[{epoch+1}/{self.epochs}] Train Loss: {loss_train.item():.6f} | Test Loss: {loss_test.item():.6f} | Rel L2: {l2_test.item():.6f} | LR: {current_lr:.2e}\")\n",
    "\n",
    "            # Early stopping\n",
    "            if epochs_no_improve >= self.patience:\n",
    "                print(f\"Early stopping triggered at epoch {epoch+1}\")\n",
    "                break\n",
    "            \n",
    "        print('The consuming time is:', time.time()-self.t0)\n",
    "    \n",
    "    def plot_training_results(self, save=False):\n",
    "        if save: \n",
    "            os.makedirs('Results', exist_ok=True)\n",
    "            os.makedirs('Results/Problem_C', exist_ok=True)\n",
    "\n",
    "        # Subplot 1: Train & Test Loss\n",
    "        plt.figure(figsize=(6, 4))\n",
    "        plt.semilogy(self.loss_train_list, label='Train Loss')\n",
    "        plt.semilogy(self.loss_test_list, label='Test Loss')\n",
    "        plt.xlabel(\"Epoch\")\n",
    "        plt.ylabel(\"Loss (log scale)\")\n",
    "        plt.title(\"Train vs Test Loss\")\n",
    "        plt.legend()\n",
    "        if save: plt.savefig(\"Results/Problem_C/loss.png\", pad_inches=0, transparent=True, dpi=300)\n",
    "        plt.show()\n",
    "\n",
    "        # Subplot 2: Test Relative Error\n",
    "        plt.figure(figsize=(6, 4))\n",
    "        plt.semilogy(self.error_test_list, label='Test Rel L2 Error', color='red')\n",
    "        plt.xlabel(\"Epoch\")\n",
    "        plt.ylabel(\"Relative L2 Error (log scale)\")\n",
    "        plt.title(\"Test Relative L2 Error\")\n",
    "        if save: plt.savefig(\"Results/Problem_C/l2_error.png\", pad_inches=0, transparent=True, dpi=300)\n",
    "        plt.show()\n",
    "    \n",
    "    def save_best_model(self, name='Best_model_C'):\n",
    "        os.makedirs('Models', exist_ok=True)\n",
    "        if self.best_model_params:\n",
    "            torch.save(self.best_model_params, f\"Models/{name}.pth\")"
   ]
  },
  {
   "cell_type": "code",
   "execution_count": 9,
   "id": "d387b326",
   "metadata": {},
   "outputs": [],
   "source": [
    "def plot_results(hiperparms, case_indx, model_path='Models/Best_Model_C.pth', save=False):\n",
    "    if save: \n",
    "        os.makedirs('Results', exist_ok=True)\n",
    "        os.makedirs('Results/Problem_C', exist_ok=True)\n",
    "\n",
    "    a_train, _, a_test, u_test, x, T, X = get_train_data(dtype)\n",
    "    _, a_test = transform_data(a_train, a_test, T)\n",
    "    \n",
    "    model_trained = DeepONet(hiperparms['layers_trunk'], hiperparms['layers_branch']).to(device)  \n",
    "    model_trained.load_state_dict(torch.load(model_path, weights_only=True))\n",
    "    \n",
    "    lossClass = LossClass(model_trained, x)\n",
    "\n",
    "    #########################################\n",
    "    l2_error = lossClass.error(a_test, u_test)\n",
    "    print('The test l2 error in the test whole dataset:', l2_error.item())\n",
    "\n",
    "    l2_error_case = lossClass.error(a_test[0].reshape(1,-1), u_test[0].reshape(1,-1))\n",
    "    print(f'The test l2 error in the test case {case_indx}:', l2_error_case.item())\n",
    "\n",
    "    with torch.no_grad():\n",
    "        u_pred = model_trained(x.to(device), a_test.to(device))\n",
    "        u_pred = u_pred.detach().cpu()\n",
    "    \n",
    "    u_test, u_pred = u_test[case_indx].squeeze(0), u_pred[case_indx].squeeze(0)\n",
    "\n",
    "    nt, nx = X.shape            # nt = 100, nx = 128\n",
    "\n",
    "    # Reshape a (nt, nx) y pasar a numpy\n",
    "    u_true_grid = u_test.view(nt, nx).cpu().numpy()\n",
    "    u_pred_grid = u_pred.view(nt, nx).cpu().numpy()\n",
    "    diff_grid   = u_true_grid - u_pred_grid\n",
    "\n",
    "    # True v\n",
    "    plt.figure(figsize=(6, 4))  \n",
    "    cntr0 = plt.contourf(T, X, u_true_grid)\n",
    "    plt.colorbar(cntr0)  \n",
    "    plt.title('True u')\n",
    "    plt.xlabel('t')\n",
    "    plt.ylabel('x')\n",
    "    if save: plt.savefig(\"Results/Problem_C/True_V.png\", pad_inches=0, transparent=True, dpi=300)\n",
    "    plt.show()\n",
    "\n",
    "    # Pred v\n",
    "    plt.figure(figsize=(6, 4))\n",
    "    cntr1 = plt.contourf(T, X, u_pred_grid)\n",
    "    plt.colorbar(cntr1)\n",
    "    plt.title('Pred u')\n",
    "    plt.xlabel('t')\n",
    "    plt.ylabel('x')\n",
    "    if save: plt.savefig(\"Results/Problem_C/Pred_V.png\", pad_inches=0, transparent=True, dpi=300)\n",
    "    plt.show()\n",
    "\n",
    "    # Difference\n",
    "    plt.figure(figsize=(6, 4))\n",
    "    cntr2 = plt.contourf(T, X, diff_grid, levels=40, cmap='seismic')\n",
    "    plt.colorbar(cntr2)\n",
    "    plt.title('Difference (Truth - Pred)')\n",
    "    plt.xlabel('t')\n",
    "    plt.ylabel('x')\n",
    "    if save: plt.savefig(\"Results/Problem_C/Pointwise_abs_error.png\", pad_inches=0, transparent=True, dpi=300)\n",
    "    plt.show()"
   ]
  },
  {
   "cell_type": "markdown",
   "id": "c482d9c1",
   "metadata": {},
   "source": [
    "### Solving the problem"
   ]
  },
  {
   "cell_type": "markdown",
   "id": "33d810e4",
   "metadata": {},
   "source": [
    "Getting the data and representing it"
   ]
  },
  {
   "cell_type": "code",
   "execution_count": 10,
   "id": "63b5365e",
   "metadata": {},
   "outputs": [
    {
     "name": "stdout",
     "output_type": "stream",
     "text": [
      "The shape of X: torch.Size([12800, 2])\n",
      "The shape of a_train: torch.Size([1000, 12800])\n",
      "The shape of u_train: torch.Size([1000, 12800])\n",
      "The shape of a_test: torch.Size([200, 12800])\n",
      "The shape of u_test: torch.Size([200, 12800])\n"
     ]
    },
    {
     "data": {
      "image/png": "[encoded data removed]",
      "text/plain": [
       "<Figure size 1600x400 with 4 Axes>"
      ]
     },
     "metadata": {},
     "output_type": "display_data"
    }
   ],
   "source": [
    "# Get training data\n",
    "a_train, u_train, a_test, u_test, x, T, X = get_train_data(dtype)\n",
    "a_train, a_test = transform_data(a_train, a_test, T)\n",
    "\n",
    "print('The shape of X:', x.shape)\n",
    "print('The shape of a_train:', a_train.shape)\n",
    "print('The shape of u_train:', u_train.shape)\n",
    "print('The shape of a_test:', a_test.shape)\n",
    "print('The shape of u_test:', u_test.shape)\n",
    "\n",
    "# Plot one case\n",
    "a_show, u_show = a_test[0], u_train[0]\n",
    "plot_case(a_show, u_show, X, T)"
   ]
  },
  {
   "cell_type": "markdown",
   "id": "c386e418",
   "metadata": {},
   "source": [
    "#### Training the model"
   ]
  },
  {
   "cell_type": "code",
   "execution_count": 11,
   "id": "d24b9349",
   "metadata": {},
   "outputs": [],
   "source": [
    "# Define hiperparams\n",
    "hiperparms = {'layers_branch': [a_train.shape[-1], 128, 128, 128, 128], 'layers_trunk': [x.shape[-1], 128, 128, 128, 128], \n",
    "              'epochs':2000, 'batch_size':50, 'patience':200, 'lr': 1e-3, 'weight_decay': 1e-3, 'step_size_divider': 4, 'gamma': 0.5}"
   ]
  },
  {
   "cell_type": "code",
   "execution_count": 12,
   "id": "792e304e",
   "metadata": {},
   "outputs": [
    {
     "name": "stderr",
     "output_type": "stream",
     "text": [
      "  0%|          | 2/2000 [00:00<07:29,  4.44it/s]"
     ]
    },
    {
     "name": "stdout",
     "output_type": "stream",
     "text": [
      "[1/2000] Train Loss: 24.072046 | Test Loss: 21.073616 | Rel L2: 0.784896 | LR: 1.00e-03\n"
     ]
    },
    {
     "name": "stderr",
     "output_type": "stream",
     "text": [
      "  5%|▌         | 101/2000 [00:12<03:43,  8.49it/s]"
     ]
    },
    {
     "name": "stdout",
     "output_type": "stream",
     "text": [
      "[100/2000] Train Loss: 3.858688 | Test Loss: 4.022530 | Rel L2: 0.157386 | LR: 1.00e-03\n"
     ]
    },
    {
     "name": "stderr",
     "output_type": "stream",
     "text": [
      " 10%|█         | 201/2000 [00:23<03:33,  8.43it/s]"
     ]
    },
    {
     "name": "stdout",
     "output_type": "stream",
     "text": [
      "[200/2000] Train Loss: 2.915012 | Test Loss: 2.734537 | Rel L2: 0.109814 | LR: 1.00e-03\n"
     ]
    },
    {
     "name": "stderr",
     "output_type": "stream",
     "text": [
      " 15%|█▌        | 301/2000 [00:35<03:19,  8.54it/s]"
     ]
    },
    {
     "name": "stdout",
     "output_type": "stream",
     "text": [
      "[300/2000] Train Loss: 2.465403 | Test Loss: 2.379840 | Rel L2: 0.096358 | LR: 1.00e-03\n"
     ]
    },
    {
     "name": "stderr",
     "output_type": "stream",
     "text": [
      " 20%|██        | 401/2000 [00:47<03:08,  8.49it/s]"
     ]
    },
    {
     "name": "stdout",
     "output_type": "stream",
     "text": [
      "[400/2000] Train Loss: 2.298997 | Test Loss: 2.379954 | Rel L2: 0.097876 | LR: 1.00e-03\n"
     ]
    },
    {
     "name": "stderr",
     "output_type": "stream",
     "text": [
      " 25%|██▌       | 501/2000 [00:59<02:54,  8.58it/s]"
     ]
    },
    {
     "name": "stdout",
     "output_type": "stream",
     "text": [
      "[500/2000] Train Loss: 2.063985 | Test Loss: 2.070475 | Rel L2: 0.083678 | LR: 5.00e-04\n"
     ]
    },
    {
     "name": "stderr",
     "output_type": "stream",
     "text": [
      " 30%|███       | 601/2000 [01:11<02:44,  8.52it/s]"
     ]
    },
    {
     "name": "stdout",
     "output_type": "stream",
     "text": [
      "[600/2000] Train Loss: 1.823879 | Test Loss: 1.828420 | Rel L2: 0.074208 | LR: 5.00e-04\n"
     ]
    },
    {
     "name": "stderr",
     "output_type": "stream",
     "text": [
      " 35%|███▌      | 701/2000 [01:23<02:31,  8.58it/s]"
     ]
    },
    {
     "name": "stdout",
     "output_type": "stream",
     "text": [
      "[700/2000] Train Loss: 1.796028 | Test Loss: 1.860133 | Rel L2: 0.076508 | LR: 5.00e-04\n"
     ]
    },
    {
     "name": "stderr",
     "output_type": "stream",
     "text": [
      " 40%|████      | 801/2000 [01:34<02:23,  8.37it/s]"
     ]
    },
    {
     "name": "stdout",
     "output_type": "stream",
     "text": [
      "[800/2000] Train Loss: 1.739312 | Test Loss: 1.705698 | Rel L2: 0.068865 | LR: 5.00e-04\n"
     ]
    },
    {
     "name": "stderr",
     "output_type": "stream",
     "text": [
      " 45%|████▌     | 901/2000 [01:47<02:08,  8.56it/s]"
     ]
    },
    {
     "name": "stdout",
     "output_type": "stream",
     "text": [
      "[900/2000] Train Loss: 1.814436 | Test Loss: 1.768655 | Rel L2: 0.073096 | LR: 5.00e-04\n"
     ]
    },
    {
     "name": "stderr",
     "output_type": "stream",
     "text": [
      " 50%|█████     | 1001/2000 [01:58<01:55,  8.64it/s]"
     ]
    },
    {
     "name": "stdout",
     "output_type": "stream",
     "text": [
      "[1000/2000] Train Loss: 1.709505 | Test Loss: 1.657329 | Rel L2: 0.067645 | LR: 2.50e-04\n"
     ]
    },
    {
     "name": "stderr",
     "output_type": "stream",
     "text": [
      " 55%|█████▌    | 1101/2000 [02:10<01:44,  8.64it/s]"
     ]
    },
    {
     "name": "stdout",
     "output_type": "stream",
     "text": [
      "[1100/2000] Train Loss: 1.576290 | Test Loss: 1.528443 | Rel L2: 0.061681 | LR: 2.50e-04\n"
     ]
    },
    {
     "name": "stderr",
     "output_type": "stream",
     "text": [
      " 60%|██████    | 1201/2000 [02:22<01:32,  8.62it/s]"
     ]
    },
    {
     "name": "stdout",
     "output_type": "stream",
     "text": [
      "[1200/2000] Train Loss: 1.547403 | Test Loss: 1.519630 | Rel L2: 0.061214 | LR: 2.50e-04\n"
     ]
    },
    {
     "name": "stderr",
     "output_type": "stream",
     "text": [
      " 65%|██████▌   | 1301/2000 [02:34<01:25,  8.15it/s]"
     ]
    },
    {
     "name": "stdout",
     "output_type": "stream",
     "text": [
      "[1300/2000] Train Loss: 1.507085 | Test Loss: 1.497495 | Rel L2: 0.060449 | LR: 2.50e-04\n"
     ]
    },
    {
     "name": "stderr",
     "output_type": "stream",
     "text": [
      " 70%|███████   | 1401/2000 [02:46<01:28,  6.79it/s]"
     ]
    },
    {
     "name": "stdout",
     "output_type": "stream",
     "text": [
      "[1400/2000] Train Loss: 1.478043 | Test Loss: 1.432191 | Rel L2: 0.057470 | LR: 2.50e-04\n"
     ]
    },
    {
     "name": "stderr",
     "output_type": "stream",
     "text": [
      " 75%|███████▌  | 1501/2000 [02:59<00:58,  8.60it/s]"
     ]
    },
    {
     "name": "stdout",
     "output_type": "stream",
     "text": [
      "[1500/2000] Train Loss: 1.493042 | Test Loss: 1.466540 | Rel L2: 0.059447 | LR: 1.25e-04\n"
     ]
    },
    {
     "name": "stderr",
     "output_type": "stream",
     "text": [
      " 80%|████████  | 1601/2000 [03:11<00:47,  8.38it/s]"
     ]
    },
    {
     "name": "stdout",
     "output_type": "stream",
     "text": [
      "[1600/2000] Train Loss: 1.414779 | Test Loss: 1.382946 | Rel L2: 0.055253 | LR: 1.25e-04\n"
     ]
    },
    {
     "name": "stderr",
     "output_type": "stream",
     "text": [
      " 85%|████████▌ | 1701/2000 [03:24<00:36,  8.29it/s]"
     ]
    },
    {
     "name": "stdout",
     "output_type": "stream",
     "text": [
      "[1700/2000] Train Loss: 1.402217 | Test Loss: 1.365000 | Rel L2: 0.054508 | LR: 1.25e-04\n"
     ]
    },
    {
     "name": "stderr",
     "output_type": "stream",
     "text": [
      " 90%|█████████ | 1801/2000 [03:36<00:24,  8.05it/s]"
     ]
    },
    {
     "name": "stdout",
     "output_type": "stream",
     "text": [
      "[1800/2000] Train Loss: 1.385619 | Test Loss: 1.356026 | Rel L2: 0.054308 | LR: 1.25e-04\n"
     ]
    },
    {
     "name": "stderr",
     "output_type": "stream",
     "text": [
      " 95%|█████████▌| 1901/2000 [03:48<00:12,  8.19it/s]"
     ]
    },
    {
     "name": "stdout",
     "output_type": "stream",
     "text": [
      "[1900/2000] Train Loss: 1.379506 | Test Loss: 1.353231 | Rel L2: 0.054145 | LR: 1.25e-04\n"
     ]
    },
    {
     "name": "stderr",
     "output_type": "stream",
     "text": [
      "100%|██████████| 2000/2000 [04:01<00:00,  8.29it/s]"
     ]
    },
    {
     "name": "stdout",
     "output_type": "stream",
     "text": [
      "[2000/2000] Train Loss: 1.343666 | Test Loss: 1.317905 | Rel L2: 0.053008 | LR: 6.25e-05\n",
      "The consuming time is: 242.57075309753418\n"
     ]
    },
    {
     "name": "stderr",
     "output_type": "stream",
     "text": [
      "\n"
     ]
    }
   ],
   "source": [
    "# Get solver and train\n",
    "solver = SolverDeepONet(x, a_train, u_train, a_test, u_test, DeepONet, LossClass, torch.optim.Adam, torch.optim.lr_scheduler.StepLR, hiperparms, device)\n",
    "solver.train()"
   ]
  },
  {
   "cell_type": "code",
   "execution_count": 13,
   "id": "e46c6f41",
   "metadata": {},
   "outputs": [
    {
     "data": {
      "image/png": "[encoded data removed]",
      "text/plain": [
       "<Figure size 600x400 with 1 Axes>"
      ]
     },
     "metadata": {},
     "output_type": "display_data"
    },
    {
     "data": {
      "image/png": "[encoded data removed]",
      "text/plain": [
       "<Figure size 600x400 with 1 Axes>"
      ]
     },
     "metadata": {},
     "output_type": "display_data"
    }
   ],
   "source": [
    "solver.plot_training_results(save=True)"
   ]
  },
  {
   "cell_type": "markdown",
   "id": "d236e2d8",
   "metadata": {},
   "source": [
    "#### Saving the model"
   ]
  },
  {
   "cell_type": "code",
   "execution_count": 14,
   "id": "41364f0e",
   "metadata": {},
   "outputs": [],
   "source": [
    "solver.save_best_model()"
   ]
  },
  {
   "cell_type": "markdown",
   "id": "c9662adf",
   "metadata": {},
   "source": [
    "#### Plotting the results"
   ]
  },
  {
   "cell_type": "code",
   "execution_count": 15,
   "id": "2d740677",
   "metadata": {},
   "outputs": [
    {
     "name": "stdout",
     "output_type": "stream",
     "text": [
      "The test l2 error in the test whole dataset: 0.05300760269165039\n",
      "The test l2 error in the test case 0: 0.1046847477555275\n"
     ]
    },
    {
     "data": {
      "image/png": "[encoded data removed]",
      "text/plain": [
       "<Figure size 600x400 with 2 Axes>"
      ]
     },
     "metadata": {},
     "output_type": "display_data"
    },
    {
     "data": {
      "image/png": "[encoded data removed]",
      "text/plain": [
       "<Figure size 600x400 with 2 Axes>"
      ]
     },
     "metadata": {},
     "output_type": "display_data"
    },
    {
     "data": {
      "image/png": "[encoded data removed]",
      "text/plain": [
       "<Figure size 600x400 with 2 Axes>"
      ]
     },
     "metadata": {},
     "output_type": "display_data"
    }
   ],
   "source": [
    "plot_results(hiperparms, case_indx=0, save=True)"
   ]
  }
 ],
 "metadata": {
  "kernelspec": {
   "display_name": ".venv",
   "language": "python",
   "name": "python3"
  },
  "language_info": {
   "codemirror_mode": {
    "name": "ipython",
    "version": 3
   },
   "file_extension": ".py",
   "mimetype": "text/x-python",
   "name": "python",
   "nbconvert_exporter": "python",
   "pygments_lexer": "ipython3",
   "version": "3.12.0"
  }
 },
 "nbformat": 4,
 "nbformat_minor": 5
}
