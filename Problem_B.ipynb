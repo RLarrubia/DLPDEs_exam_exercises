{
 "cells": [
  {
   "cell_type": "markdown",
   "id": "6bcfae83-5d0e-44c6-96d9-4fd274c8ed82",
   "metadata": {},
   "source": [
    "# Problem B: Effective thermal conductivity of 2-phase materials\n",
    "Predicting the effective thermal conductivity $k_{\\text{eff}}$ of a two-phase composite material is a classical and practical problem in materials science. The goal is to estimate the bulk conductivity of a heterogeneous material made of two constituents with thermal conductivities $k_1$ and $k_2$. One efficient way to compute the effective thermal conductivity of given 2-phase materials is through numerical homogenization.\n",
    "\n",
    "In numerical homogenization, we need to solve the steady-state heat equation on a representative volume element (RVE): \n",
    "$$\n",
    "-\\nabla\\cdot(k(x,y)\\nabla T) = 0,\\quad (x,y)\\in\\Omega=[0,1]^2 \\tag{2}\n",
    "$$\n",
    "With the following boundary conditions:\n",
    "  - $T(x=0,y)=0,\\ T(x=1,y)=1 $\n",
    "  - $\\frac{\\partial T}{\\partial \\vec{n}}(x,y=0)=\\frac{\\partial T}{\\partial \\vec{n}}(x,y=1)=0$\n",
    "\n",
    "where $T(x,y)$ indicates the temperature  and $k(x,y)$ indicates thermal conductivity, which is defined piecewise:\n",
    "$$\n",
    "k(x,y)=\n",
    "\\begin{cases}\n",
    "k_1=2.,\\quad (x,y)\\in\\Omega_1\\\\\n",
    "k_2=10.,\\quad (x,y)\\in\\Omega_2\n",
    "\\end{cases}\n",
    "$$\n",
    "where $\\Omega_1$, $\\Omega_2$ denote the first phase region and the second phase region, respectively.\n",
    "\n",
    "<!-- To compute the effective thermal conductivity in the $x$-direction, one can follow the steps:\n",
    "- **Step 1:** Solve the following PDE:\n",
    "    $$\n",
    "    -\\nabla\\cdot(k(x,y)\\nabla T) = 0,\\quad (x,y)\\in\\Omega=[0,1]^2 \\tag{3}\n",
    "    $$\n",
    "  With boundary conditions:\n",
    "  - $T(x=0,y)=0,\\ T(x=1,y)=1 $\n",
    "  - $\\frac{\\partial T}{\\partial \\vec{n}}(x,y=0)=\\frac{\\partial T}{\\partial \\vec{n}}(x,y=1)=0$ \n",
    "- **Step 2:** Compute the **average heat flux:**\n",
    "    $$\n",
    "    <q> = \\frac{1}{|\\Omega|}\\int_{\\Omega}q~d\\Omega\n",
    "    $$\n",
    "  where $q(x,y)=-k(x,y)\\partial_x T$, and the **average temperature gradient:**\n",
    "    $$\n",
    "    <\\partial_x T> =  \\frac{1}{|\\Omega|}\\int_{\\Omega}\\partial_x T~d\\Omega\n",
    "    $$\n",
    "- **Step 3:** Compute the **effective thermal conductivity (in $x$-direction):**\n",
    "    $$\n",
    "    k_{eff} = -\\frac{<q>}{<\\partial_x T>} = \\frac{<k(x,y)\\partial_x T>}{<\\partial_x T>}\n",
    "    $$ -->"
   ]
  },
  {
   "cell_type": "markdown",
   "id": "4a7097e3-65f9-4efb-8e43-efe75a0bbf35",
   "metadata": {},
   "source": [
    "## Task: predicting the temperature field $T(x,y)$ given 2-phase material $k(x,y)$ \n",
    "In this task, we have collected many materials $k(x,y)$ which are sampled from a distribution $\\mathcal{A}$. We have also computed the corresponding temperature field $T(x,y)$ through solving the PDE problem $(2)$ with high-precision FEM method. Now, we hope to make a fast prediction of the temperature field $T(x,y)$ (therefore, a fast prediction of the effective conductivity) of a group of materials that are sampled from the same distribution.\n",
    "\n",
    "### The goals\n",
    "- Please select a suitable deep learning method for solving this task, and explain the reason for using it\n",
    "- Report your setups for the implementation, such as network structure, activation function, optimizer (with learning rate), epoch (with batch size), loss weights, and other tricks that are used for improvement.\n",
    "- Compute the $L^2$ relative error (on testing dataset) at each training epoch and plot the ```Error vs. epcoh``` curve (and report the final error). The $L^2$ relative error between the prediction $\\{T^{(j)}_{pred}\\}^{N}_{j}$ and the truth $\\{T^{(j)}_{true}\\}^{N}_j$ is defined as follows:\n",
    "  $$error = \\frac{1}{N}\\sum_j\\sqrt{\\frac{\\sum_i|T^{(j)}_{pred}(x_i)-T^{(j)}_{true}(x_i)|^2}{\\sum_i|T^{(j)}_{true}(x_i)|^2}}$$\n",
    " where $j$ indicates the $j$-th instance.\n",
    "- Plot the material thermal conductivity, the corresponding predicted solution (and the ground truth reference), and the pointwise absolute error for the first instance in the testing Dataset using separate figures with ```matplotlib```.\n",
    "\n",
    "### Dataset\n",
    "The observation and the ground truth references are given in the dataset ```EffectiveConductivity.h5```:\n",
    "- ```k_train```: size(1000, 36, 36), the collected materials (a $36\\times 36$ matrix represents each material)\n",
    "- ```T_train```: size(1000, 36, 36), the collected temperature field (computed on a $36\\times 36$ regular mesh)\n",
    "- ```k_test```: the materials that we are going to predict their corresponding temperature field (Should not be used for training)\n",
    "- ```T_test```: the ground truth reference of the temperature field (Should not be used for training)\n",
    "- ```X```: size(36, 36), the $x$-coordiante of locations where the temperature field computed\n",
    "- ```Y```: size(36, 36), the $y$-coordiante of locations where the temperature field computed\n",
    "- Link to dataset: [https://www.kaggle.com/datasets/yhzang32/dno4pdes](https://www.kaggle.com/datasets/yhzang32/dno4pdes)"
   ]
  },
  {
   "cell_type": "markdown",
   "id": "e84ea227",
   "metadata": {},
   "source": [
    "### Installing necessary libraries"
   ]
  },
  {
   "cell_type": "code",
   "execution_count": 1,
   "id": "ac19c865",
   "metadata": {},
   "outputs": [],
   "source": [
    "import os\n",
    "import time\n",
    "import numpy as np\n",
    "from tqdm import trange\n",
    "import torch.nn as nn\n",
    "import h5py\n",
    "import torch \n",
    "from torchsummary import summary\n",
    "import matplotlib.pyplot as plt\n",
    "from scipy.interpolate import griddata\n",
    "from torch.utils.data import Dataset, DataLoader\n",
    "\n",
    "torch.manual_seed(1234)\n",
    "device = 'cuda'\n",
    "dtype = torch.float32\n",
    "current_workspace = os.getcwd()"
   ]
  },
  {
   "cell_type": "markdown",
   "id": "39ccc428",
   "metadata": {},
   "source": [
    "### Creating and importing the data"
   ]
  },
  {
   "cell_type": "code",
   "execution_count": 2,
   "id": "1101a1eb",
   "metadata": {},
   "outputs": [],
   "source": [
    "def get_train_data():\n",
    "    with h5py.File(os.path.join(current_workspace, 'Datasets', 'EffectiveConductivity.h5')) as data:\n",
    "        # Train data\n",
    "        k_train = torch.tensor(np.array(data[\"k_train\"]), dtype=dtype); k_train[k_train==0]=2.; k_train[k_train==1]=10.\n",
    "        T_train = torch.tensor(np.array(data[\"T_train\"]), dtype=dtype)\n",
    "\n",
    "        # Test data \n",
    "        k_test = torch.tensor(np.array(data[\"k_test\"]), dtype=dtype); k_test[k_test==0]=2.; k_test[k_test==1]=10.\n",
    "        T_test =torch.tensor( np.array(data[\"T_test\"]), dtype=dtype)\n",
    "\n",
    "        # The coordinates\n",
    "        x1 = np.array(data['X'])\n",
    "        x2 = np.array(data['Y'])\n",
    "    \n",
    "    n_train = k_train.shape[0]\n",
    "    n_test = k_test.shape[0]\n",
    "\n",
    "    a_train = k_train.reshape(n_train, -1)\n",
    "    u_train = T_train.reshape(n_train, -1)\n",
    "\n",
    "    a_test = k_test.reshape(n_test, -1)\n",
    "    u_test = T_test.reshape(n_test, -1)\n",
    "\n",
    "    mesh = np.vstack([x1.ravel(), x2.ravel()]).T\n",
    "    gridx = mesh.reshape(-1, 2)\n",
    "    x = torch.tensor(gridx, dtype=dtype)\n",
    "    \n",
    "    return a_train, u_train, a_test, u_test, x, x1, x2"
   ]
  },
  {
   "cell_type": "code",
   "execution_count": 3,
   "id": "2e579aa7",
   "metadata": {},
   "outputs": [],
   "source": [
    "def plot_case(a_show, u_show, X, Y):\n",
    "\n",
    "    a_show_grid = a_show.view(36, 36).numpy()\n",
    "    u_show_grid = u_show.view(36, 36).numpy()\n",
    "\n",
    "    fig, axs = plt.subplots(nrows=1, ncols=2, figsize=(12, 4))\n",
    "\n",
    "    cntr0 = axs[0].imshow(a_show_grid, origin='lower')\n",
    "    fig.colorbar(cntr0, ax=axs[0])\n",
    "    axs[0].set_title('True k')\n",
    "    axs[0].set_xlabel('x')\n",
    "    axs[0].set_ylabel('y')\n",
    "    axs[0].set_aspect('equal')\n",
    "\n",
    "    cntr1 = axs[1].contourf(X, Y, u_show_grid, levels=40, cmap='jet')\n",
    "    fig.colorbar(cntr1, ax=axs[1])\n",
    "    axs[1].set_title('True T')\n",
    "    axs[1].set_xlabel('x')\n",
    "    axs[1].set_ylabel('y')\n",
    "    axs[1].set_aspect('equal')\n",
    "\n",
    "    plt.tight_layout()\n",
    "    plt.show()"
   ]
  },
  {
   "cell_type": "code",
   "execution_count": 4,
   "id": "5c3baee9",
   "metadata": {},
   "outputs": [],
   "source": [
    "class MyDataset(Dataset):\n",
    "    def __init__(self, a:torch.tensor, u:torch.tensor):\n",
    "        '''\n",
    "        Input:\n",
    "            a: size(batch_size, a_size)\n",
    "            u: size(batch_size, u_size)\n",
    "        '''\n",
    "        self.a = a \n",
    "        self.u = u\n",
    "    \n",
    "    def __getitem__(self, index):\n",
    "        return self.a[index], self.u[index]\n",
    "\n",
    "    def __len__(self):\n",
    "        return self.a.shape[0]"
   ]
  },
  {
   "cell_type": "markdown",
   "id": "52fa3415",
   "metadata": {},
   "source": [
    "### Building the arquitecture of the DeepONet"
   ]
  },
  {
   "cell_type": "code",
   "execution_count": 5,
   "id": "2d292ac8",
   "metadata": {},
   "outputs": [],
   "source": [
    "class DeepONet(nn.Module):\n",
    "    \n",
    "    def __init__(self, layers_trunk, layers_branch, branch_type=None):\n",
    "        super(DeepONet, self).__init__()\n",
    "        # The trunk network\n",
    "        self.activation_trunk = nn.ReLU()\n",
    "        self.trunk_net(layers_trunk)\n",
    "        \n",
    "        # The branch network\n",
    "        self.activation_branch = nn.ReLU()\n",
    "        if branch_type=='cnn':\n",
    "            self.branch_net_cnn(layers_branch)\n",
    "        else:\n",
    "            self.branch_net_mlp(layers_branch)\n",
    "            \n",
    "        # The bias term\n",
    "        self.bias = torch.nn.Parameter(torch.tensor(0.0, dtype=dtype))\n",
    "\n",
    "    def branch_net_mlp(self, layers_branch):\n",
    "        '''The branch network (MLP network)'''\n",
    "        # Network Sequential\n",
    "        net = []\n",
    "        hidden_in = layers_branch[0]\n",
    "        for hidden in layers_branch[1:]:\n",
    "            net.append(nn.Linear(hidden_in, hidden, dtype=dtype))\n",
    "            net.append(self.activation_branch)\n",
    "            hidden_in = hidden\n",
    "        self.branch = nn.Sequential(*net)\n",
    "\n",
    "    def branch_net_cnn(self, layers_barnch):\n",
    "        '''The branch network (CNN network)'''\n",
    "        # Network Sequential\n",
    "        net = []\n",
    "        hidden_in = layers_barnch[0]\n",
    "        for hidden in layers_barnch[1:]:\n",
    "            net.append(nn.Conv2d(hidden_in, hidden, kernel_size=(5,5), \n",
    "                                 stride=2, dtype=dtype))\n",
    "            net.append(self.activation_branch)\n",
    "            hidden_in =  hidden \n",
    "        self.branch = nn.Sequential(*net)\n",
    "        \n",
    "    def trunk_net(self, layers_trunk):\n",
    "        '''The trunk network'''\n",
    "        # Network Sequential\n",
    "        net = []\n",
    "        hidden_in = layers_trunk[0]\n",
    "        for hidden in layers_trunk[1:]:\n",
    "            net.append(nn.Linear(hidden_in, hidden, dtype=dtype))\n",
    "            net.append(self.activation_trunk)\n",
    "            hidden_in = hidden\n",
    "        self.trunk = nn.Sequential(*net)\n",
    "        \n",
    "    def forward(self, x, a):\n",
    "        ''' \n",
    "        Input:\n",
    "            x: size(mesh_size, x_size)\n",
    "            a: size(batch_size, a_size)\n",
    "        '''\n",
    "        # size(mesh_size, x_size) -> size(mesh_size, p)\n",
    "        t = self.trunk(x)\n",
    "        # size(batch_size, a_size) -> size(batch_size, p)\n",
    "        b = self.branch(a)\n",
    "        #\n",
    "        output = torch.einsum(\"bp,mp->bm\", b, t) + self.bias\n",
    "        return output\n"
   ]
  },
  {
   "cell_type": "markdown",
   "id": "f9ad8c02",
   "metadata": {},
   "source": [
    "### Defining the loss class of a supervised model"
   ]
  },
  {
   "cell_type": "code",
   "execution_count": 6,
   "id": "1528bf69",
   "metadata": {},
   "outputs": [],
   "source": [
    "class LossClass(object):\n",
    "\n",
    "    def __init__(self, u_model, x):\n",
    "        self.device = device\n",
    "        self.u_model = u_model \n",
    "        self.x = x.to(self.device)\n",
    "        # self.getLoss = torch.nn.MSELoss()\n",
    "    \n",
    "    def loss_data(self, a_batch, u_batch):\n",
    "        '''loss term'''\n",
    "        a, u = a_batch.to(self.device), u_batch.to(self.device)\n",
    "        #\n",
    "        u_pred = self.u_model(self.x, a)\n",
    "        loss = torch.norm(u-u_pred, 2, 1)\n",
    "        loss = torch.mean(loss)\n",
    "        # loss = self.getLoss(u, u_pred)\n",
    "        return loss\n",
    "    \n",
    "    def error(self, a, u):\n",
    "        '''error term'''\n",
    "        a, u = a.to(self.device), u.to(self.device)\n",
    "        u_pred = self.u_model(self.x, a)\n",
    "        err = torch.mean(torch.sqrt(torch.sum((u_pred - u)**2, dim=1)/torch.sum(u**2, dim=1)))\n",
    "        return err "
   ]
  },
  {
   "cell_type": "markdown",
   "id": "e29a9519",
   "metadata": {},
   "source": [
    "### Creating a Trainer Class for DeepONet"
   ]
  },
  {
   "cell_type": "code",
   "execution_count": 7,
   "id": "8a5b1964",
   "metadata": {},
   "outputs": [],
   "source": [
    "class SolverDeepONet:\n",
    "    def __init__(self, x, a_train, u_train, a_test, u_test, model, LossClass, Optimizer, Scheduler, hiperparms, device):\n",
    "        self.t0 = time.time()\n",
    "        self.device = device \n",
    "        \n",
    "        # hiperparameters\n",
    "        self.layers_trunk = hiperparms['layers_trunk']\n",
    "        self.layers_branch = hiperparms['layers_branch']\n",
    "        self.epochs = hiperparms['epochs']\n",
    "        self.batch_size = hiperparms['batch_size']\n",
    "        self.patience = hiperparms['patience']\n",
    "        self.lr = hiperparms['lr']\n",
    "        self.weight_decay = hiperparms['weight_decay']\n",
    "        self.step_size = self.epochs // hiperparms['step_size_divider']\n",
    "        self.gamma = hiperparms['gamma']\n",
    "\n",
    "        # creating instances of necessary classes\n",
    "        self.model_u = model(self.layers_trunk, self.layers_branch).to(device)\n",
    "        self.train_loader = DataLoader(MyDataset(a_train, u_train), batch_size=self.batch_size, shuffle=True)\n",
    "        self.lossClass = LossClass(self.model_u, x.to(self.device))\n",
    "        self.optimizer = Optimizer(params=self.model_u.parameters(), lr=self.lr, weight_decay=self.weight_decay)\n",
    "        self.scheduler = Scheduler(self.optimizer, step_size=self.step_size, gamma=self.gamma)\n",
    "\n",
    "        # moving test set to device\n",
    "        self.a_test, self.u_test = a_test.to(self.device), u_test.to(self.device)\n",
    "\n",
    "        # initializing variables \n",
    "        self.loss_train_final = 0.\n",
    "        self.loss_test_final = 0.\n",
    "        self.error_test_final = 0.\n",
    "\n",
    "        self.best_err_test = 1e10\n",
    "        self.loss_train_list = []\n",
    "        self.loss_test_list = []\n",
    "        self.error_test_list = []\n",
    "\n",
    "    def train(self):\n",
    "        for epoch in trange(self.epochs):\n",
    "            loss_train = 0.\n",
    "            for a_batch, u_batch in self.train_loader:\n",
    "                a_batch, u_batch = a_batch.to(device), u_batch.to(device)\n",
    "                loss = self.lossClass.loss_data(a_batch, u_batch)\n",
    "                #\n",
    "                self.optimizer.zero_grad()\n",
    "                loss.backward()\n",
    "                self.optimizer.step()\n",
    "                #\n",
    "                loss_train += loss\n",
    "            loss_train = loss_train/len(self.train_loader)\n",
    "            self.loss_train_list.append(loss_train.item())\n",
    "\n",
    "            ## Test loss and error\n",
    "            with torch.no_grad():\n",
    "                loss_test = self.lossClass.loss_data(self.a_test, self.u_test)\n",
    "                l2_test = self.lossClass.error(self.a_test, self.u_test)\n",
    "            self.loss_test_list.append(loss_test.item())\n",
    "            self.error_test_list.append(l2_test.item())\n",
    "            \n",
    "            ## Scheduler\n",
    "            self.scheduler.step() \n",
    "            \n",
    "            ## Saving best model\n",
    "            if l2_test.item() < self.best_err_test:\n",
    "                self.best_err_test = l2_test.item()\n",
    "                epochs_no_improve = 0\n",
    "\n",
    "                self.best_model_params = self.model_u.state_dict()\n",
    "                self.error_test_final = l2_test.item()\n",
    "                self.loss_test_final = loss_train.item()\n",
    "                self.loss_test_final = loss_test.item()\n",
    "            else:\n",
    "                epochs_no_improve += 1\n",
    "\n",
    "            ## Show progress\n",
    "            if (epoch + 1) % 100 == 0 or epoch == 0:\n",
    "                current_lr = self.optimizer.param_groups[0]['lr']\n",
    "                print(f\"[{epoch+1}/{self.epochs}] Train Loss: {loss_train.item():.6f} | Test Loss: {loss_test.item():.6f} | Rel L2: {l2_test.item():.6f} | LR: {current_lr:.2e}\")\n",
    "\n",
    "            # Early stopping\n",
    "            if epochs_no_improve >= self.patience:\n",
    "                print(f\"Early stopping triggered at epoch {epoch+1}\")\n",
    "                break\n",
    "            \n",
    "        print('The consuming time is:', time.time()-self.t0)\n",
    "    \n",
    "    def plot_training_results(self, save=False):\n",
    "        if save: \n",
    "            os.makedirs('Results', exist_ok=True)\n",
    "            os.makedirs('Results/Problem_B', exist_ok=True)\n",
    "\n",
    "        # Subplot 1: Train & Test Loss\n",
    "        plt.figure(figsize=(6, 4))\n",
    "        plt.semilogy(self.loss_train_list, label='Train Loss')\n",
    "        plt.semilogy(self.loss_test_list, label='Test Loss')\n",
    "        plt.xlabel(\"Epoch\")\n",
    "        plt.ylabel(\"Loss (log scale)\")\n",
    "        plt.title(\"Train vs Test Loss\")\n",
    "        plt.legend()\n",
    "        if save: plt.savefig(\"Results/Problem_B/loss.png\", pad_inches=0, transparent=True, dpi=300)\n",
    "        plt.show()\n",
    "\n",
    "        # Subplot 2: Test Relative Error\n",
    "        plt.figure(figsize=(6, 4))\n",
    "        plt.semilogy(self.error_test_list, label='Test Rel L2 Error', color='red')\n",
    "        plt.xlabel(\"Epoch\")\n",
    "        plt.ylabel(\"Relative L2 Error (log scale)\")\n",
    "        plt.title(\"Test Relative L2 Error\")\n",
    "        if save: plt.savefig(\"Results/Problem_B/l2_error.png\", pad_inches=0, transparent=True, dpi=300)\n",
    "        plt.show()\n",
    "    \n",
    "    def save_best_model(self, name='Best_model_B'):\n",
    "        os.makedirs('Models', exist_ok=True)\n",
    "        if self.best_model_params:\n",
    "            torch.save(self.best_model_params, f\"Models/{name}.pth\")"
   ]
  },
  {
   "cell_type": "code",
   "execution_count": 8,
   "id": "fc4b1983",
   "metadata": {},
   "outputs": [],
   "source": [
    "def plot_results(hiperparms, case_indx, model_path='Models/Best_Model_B.pth', save=False):\n",
    "    if save: \n",
    "        os.makedirs('Results', exist_ok=True)\n",
    "        os.makedirs('Results/Problem_B', exist_ok=True)\n",
    "    _, _, a_test, u_test, x, X, Y = get_train_data()\n",
    "\n",
    "    model_trained = DeepONet(hiperparms['layers_trunk'], hiperparms['layers_branch']).to(device)  \n",
    "    model_trained.load_state_dict(torch.load(model_path, weights_only=True))\n",
    "\n",
    "    lossClass = LossClass(model_trained, x)\n",
    "\n",
    "    #########################################\n",
    "    l2_error = lossClass.error(a_test, u_test)\n",
    "    print('The test l2 error in the test whole dataset:', l2_error.item())\n",
    "\n",
    "    l2_error_case = lossClass.error(a_test[0].reshape(1,-1), u_test[0].reshape(1,-1))\n",
    "    print(f'The test l2 error in the test case {case_indx}:', l2_error_case.item())\n",
    "\n",
    "\n",
    "    with torch.no_grad():\n",
    "        u_pred = model_trained(x.to(device), a_test.to(device))\n",
    "        u_pred = u_pred.detach().cpu()\n",
    "    \n",
    "    u_test, u_pred = u_test[case_indx].squeeze(0), u_pred[case_indx].squeeze(0)\n",
    "    \n",
    "\n",
    "    ny, nx = X.shape\n",
    "\n",
    "    u_truth_grid = u_test.view(ny, nx).numpy()\n",
    "    u_pred_grid = u_pred.view(ny, nx).numpy()\n",
    "    diff_grid = u_truth_grid - u_pred_grid\n",
    "\n",
    "\n",
    "    # True T\n",
    "    plt.figure(figsize=(6, 5))  \n",
    "    cntr0 = plt.contourf(X, Y, u_truth_grid, levels=40, cmap='jet')\n",
    "    plt.colorbar(cntr0) \n",
    "    plt.title('True T')\n",
    "    plt.xlabel('x')\n",
    "    plt.ylabel('y')\n",
    "    plt.gca().set_aspect('equal')  \n",
    "    if save: plt.savefig(\"Results/Problem_B/True_T.png\", pad_inches=0, transparent=True, dpi=300)\n",
    "    plt.show()\n",
    "\n",
    "    # Pred T\n",
    "    plt.figure(figsize=(6, 5))\n",
    "    cntr1 = plt.contourf(X, Y, u_pred_grid, levels=40, cmap='jet')\n",
    "    plt.colorbar(cntr1)\n",
    "    plt.title('Pred T')\n",
    "    plt.xlabel('x')\n",
    "    plt.ylabel('y')\n",
    "    plt.gca().set_aspect('equal')\n",
    "    if save: plt.savefig(\"Results/Problem_B/Pred_T.png\", pad_inches=0, transparent=True, dpi=300)\n",
    "    plt.show()\n",
    "\n",
    "    # Difference\n",
    "    plt.figure(figsize=(6, 5))\n",
    "    cntr2 = plt.contourf(X, Y, diff_grid, levels=40, cmap='seismic')\n",
    "    plt.colorbar(cntr2)\n",
    "    plt.title('Difference (Truth - Pred)')\n",
    "    plt.xlabel('x')\n",
    "    plt.ylabel('y')\n",
    "    plt.gca().set_aspect('equal')\n",
    "    if save: plt.savefig(\"Results/Problem_B/Pointwise_abs_error.png\", pad_inches=0, transparent=True, dpi=300)\n",
    "    plt.show()"
   ]
  },
  {
   "cell_type": "markdown",
   "id": "4ebbb4cd",
   "metadata": {},
   "source": [
    "### Solving the problem"
   ]
  },
  {
   "cell_type": "markdown",
   "id": "a21f012f",
   "metadata": {},
   "source": [
    "#### Showing the data"
   ]
  },
  {
   "cell_type": "code",
   "execution_count": 9,
   "id": "91d6eb86",
   "metadata": {},
   "outputs": [
    {
     "name": "stdout",
     "output_type": "stream",
     "text": [
      "The shape of X: torch.Size([1296, 2])\n",
      "The shape of k_train: torch.Size([1000, 1296])\n",
      "The shape of T_train: torch.Size([1000, 1296])\n",
      "The shape of k_test: torch.Size([200, 1296])\n",
      "The shape of T_test: torch.Size([200, 1296])\n"
     ]
    },
    {
     "data": {
      "image/png": "[encoded data removed]",
      "text/plain": [
       "<Figure size 1200x400 with 4 Axes>"
      ]
     },
     "metadata": {},
     "output_type": "display_data"
    }
   ],
   "source": [
    "# Get training data\n",
    "a_train, u_train, a_test, u_test, x, X, Y = get_train_data()\n",
    "print('The shape of X:', x.shape)\n",
    "print('The shape of k_train:', a_train.shape)\n",
    "print('The shape of T_train:', u_train.shape)\n",
    "print('The shape of k_test:', a_test.shape)\n",
    "print('The shape of T_test:', u_test.shape)\n",
    "\n",
    "# Plot one case\n",
    "a_show, u_show = a_test[0], u_test[0]\n",
    "plot_case(a_show, u_show, X, Y)"
   ]
  },
  {
   "cell_type": "markdown",
   "id": "1ad9e55e",
   "metadata": {},
   "source": [
    "#### Training the model\n"
   ]
  },
  {
   "cell_type": "code",
   "execution_count": 10,
   "id": "5aecb990",
   "metadata": {},
   "outputs": [],
   "source": [
    "# Define hiperparameters\n",
    "hiperparms = {'layers_branch': [1296, 256, 256, 128], 'layers_trunk': [2, 256, 256, 128], \n",
    "              'epochs':3000, 'batch_size':50, 'patience':200, 'lr': 2e-4, 'weight_decay': 1e-3, 'step_size_divider': 4, 'gamma': 0.8}"
   ]
  },
  {
   "cell_type": "code",
   "execution_count": 11,
   "id": "0ee87fe0",
   "metadata": {},
   "outputs": [
    {
     "name": "stderr",
     "output_type": "stream",
     "text": [
      "  0%|          | 3/3000 [00:00<07:42,  6.47it/s]"
     ]
    },
    {
     "name": "stdout",
     "output_type": "stream",
     "text": [
      "[1/3000] Train Loss: 5.948627 | Test Loss: 2.649033 | Rel L2: 0.126619 | LR: 2.00e-04\n"
     ]
    },
    {
     "name": "stderr",
     "output_type": "stream",
     "text": [
      "  3%|▎         | 101/3000 [00:08<04:04, 11.83it/s]"
     ]
    },
    {
     "name": "stdout",
     "output_type": "stream",
     "text": [
      "[100/3000] Train Loss: 0.800875 | Test Loss: 1.242902 | Rel L2: 0.059227 | LR: 2.00e-04\n"
     ]
    },
    {
     "name": "stderr",
     "output_type": "stream",
     "text": [
      "  7%|▋         | 201/3000 [00:17<03:52, 12.05it/s]"
     ]
    },
    {
     "name": "stdout",
     "output_type": "stream",
     "text": [
      "[200/3000] Train Loss: 0.675028 | Test Loss: 1.205357 | Rel L2: 0.057499 | LR: 2.00e-04\n"
     ]
    },
    {
     "name": "stderr",
     "output_type": "stream",
     "text": [
      " 10%|█         | 301/3000 [00:25<03:44, 12.00it/s]"
     ]
    },
    {
     "name": "stdout",
     "output_type": "stream",
     "text": [
      "[300/3000] Train Loss: 0.619892 | Test Loss: 1.138456 | Rel L2: 0.054308 | LR: 2.00e-04\n"
     ]
    },
    {
     "name": "stderr",
     "output_type": "stream",
     "text": [
      " 13%|█▎        | 401/3000 [00:33<03:36, 12.03it/s]"
     ]
    },
    {
     "name": "stdout",
     "output_type": "stream",
     "text": [
      "[400/3000] Train Loss: 0.650652 | Test Loss: 1.163747 | Rel L2: 0.055567 | LR: 2.00e-04\n"
     ]
    },
    {
     "name": "stderr",
     "output_type": "stream",
     "text": [
      " 17%|█▋        | 501/3000 [00:42<03:33, 11.68it/s]"
     ]
    },
    {
     "name": "stdout",
     "output_type": "stream",
     "text": [
      "[500/3000] Train Loss: 0.578512 | Test Loss: 1.128882 | Rel L2: 0.053812 | LR: 2.00e-04\n"
     ]
    },
    {
     "name": "stderr",
     "output_type": "stream",
     "text": [
      " 20%|██        | 601/3000 [00:50<03:21, 11.93it/s]"
     ]
    },
    {
     "name": "stdout",
     "output_type": "stream",
     "text": [
      "[600/3000] Train Loss: 0.543007 | Test Loss: 1.164682 | Rel L2: 0.055674 | LR: 2.00e-04\n"
     ]
    },
    {
     "name": "stderr",
     "output_type": "stream",
     "text": [
      " 23%|██▎       | 701/3000 [00:58<03:10, 12.04it/s]"
     ]
    },
    {
     "name": "stdout",
     "output_type": "stream",
     "text": [
      "[700/3000] Train Loss: 0.499840 | Test Loss: 1.099499 | Rel L2: 0.052412 | LR: 2.00e-04\n"
     ]
    },
    {
     "name": "stderr",
     "output_type": "stream",
     "text": [
      " 27%|██▋       | 801/3000 [01:07<03:02, 12.08it/s]"
     ]
    },
    {
     "name": "stdout",
     "output_type": "stream",
     "text": [
      "[800/3000] Train Loss: 0.459231 | Test Loss: 1.086911 | Rel L2: 0.051829 | LR: 1.60e-04\n"
     ]
    },
    {
     "name": "stderr",
     "output_type": "stream",
     "text": [
      " 30%|███       | 901/3000 [01:16<02:54, 12.02it/s]"
     ]
    },
    {
     "name": "stdout",
     "output_type": "stream",
     "text": [
      "[900/3000] Train Loss: 0.435170 | Test Loss: 1.096752 | Rel L2: 0.052336 | LR: 1.60e-04\n"
     ]
    },
    {
     "name": "stderr",
     "output_type": "stream",
     "text": [
      " 33%|███▎      | 1001/3000 [01:24<02:50, 11.69it/s]"
     ]
    },
    {
     "name": "stdout",
     "output_type": "stream",
     "text": [
      "[1000/3000] Train Loss: 0.465125 | Test Loss: 1.078369 | Rel L2: 0.051409 | LR: 1.60e-04\n"
     ]
    },
    {
     "name": "stderr",
     "output_type": "stream",
     "text": [
      " 37%|███▋      | 1101/3000 [01:32<02:38, 11.95it/s]"
     ]
    },
    {
     "name": "stdout",
     "output_type": "stream",
     "text": [
      "[1100/3000] Train Loss: 0.421807 | Test Loss: 1.074967 | Rel L2: 0.051288 | LR: 1.60e-04\n"
     ]
    },
    {
     "name": "stderr",
     "output_type": "stream",
     "text": [
      " 40%|████      | 1201/3000 [01:41<02:30, 11.92it/s]"
     ]
    },
    {
     "name": "stdout",
     "output_type": "stream",
     "text": [
      "[1200/3000] Train Loss: 0.465824 | Test Loss: 1.083504 | Rel L2: 0.051676 | LR: 1.60e-04\n"
     ]
    },
    {
     "name": "stderr",
     "output_type": "stream",
     "text": [
      " 43%|████▎     | 1302/3000 [01:50<02:20, 12.08it/s]"
     ]
    },
    {
     "name": "stdout",
     "output_type": "stream",
     "text": [
      "[1300/3000] Train Loss: 0.446980 | Test Loss: 1.091492 | Rel L2: 0.051961 | LR: 1.60e-04\n"
     ]
    },
    {
     "name": "stderr",
     "output_type": "stream",
     "text": [
      " 47%|████▋     | 1402/3000 [01:59<02:13, 11.97it/s]"
     ]
    },
    {
     "name": "stdout",
     "output_type": "stream",
     "text": [
      "[1400/3000] Train Loss: 0.422977 | Test Loss: 1.061028 | Rel L2: 0.050559 | LR: 1.60e-04\n"
     ]
    },
    {
     "name": "stderr",
     "output_type": "stream",
     "text": [
      " 50%|█████     | 1502/3000 [02:07<02:13, 11.22it/s]"
     ]
    },
    {
     "name": "stdout",
     "output_type": "stream",
     "text": [
      "[1500/3000] Train Loss: 0.410923 | Test Loss: 1.065171 | Rel L2: 0.050734 | LR: 1.28e-04\n"
     ]
    },
    {
     "name": "stderr",
     "output_type": "stream",
     "text": [
      " 53%|█████▎    | 1602/3000 [02:16<02:00, 11.58it/s]"
     ]
    },
    {
     "name": "stdout",
     "output_type": "stream",
     "text": [
      "[1600/3000] Train Loss: 0.386302 | Test Loss: 1.053712 | Rel L2: 0.050231 | LR: 1.28e-04\n"
     ]
    },
    {
     "name": "stderr",
     "output_type": "stream",
     "text": [
      " 57%|█████▋    | 1701/3000 [02:25<01:55, 11.27it/s]"
     ]
    },
    {
     "name": "stdout",
     "output_type": "stream",
     "text": [
      "[1700/3000] Train Loss: 0.411339 | Test Loss: 1.073739 | Rel L2: 0.051125 | LR: 1.28e-04\n"
     ]
    },
    {
     "name": "stderr",
     "output_type": "stream",
     "text": [
      " 60%|██████    | 1801/3000 [02:34<01:54, 10.48it/s]"
     ]
    },
    {
     "name": "stdout",
     "output_type": "stream",
     "text": [
      "[1800/3000] Train Loss: 0.379470 | Test Loss: 1.052798 | Rel L2: 0.050192 | LR: 1.28e-04\n"
     ]
    },
    {
     "name": "stderr",
     "output_type": "stream",
     "text": [
      " 63%|██████▎   | 1901/3000 [02:43<01:36, 11.40it/s]"
     ]
    },
    {
     "name": "stdout",
     "output_type": "stream",
     "text": [
      "[1900/3000] Train Loss: 0.381358 | Test Loss: 1.039614 | Rel L2: 0.049564 | LR: 1.28e-04\n"
     ]
    },
    {
     "name": "stderr",
     "output_type": "stream",
     "text": [
      " 67%|██████▋   | 2001/3000 [02:52<01:36, 10.38it/s]"
     ]
    },
    {
     "name": "stdout",
     "output_type": "stream",
     "text": [
      "[2000/3000] Train Loss: 0.362148 | Test Loss: 1.049374 | Rel L2: 0.050026 | LR: 1.28e-04\n"
     ]
    },
    {
     "name": "stderr",
     "output_type": "stream",
     "text": [
      " 70%|███████   | 2102/3000 [03:01<01:16, 11.78it/s]"
     ]
    },
    {
     "name": "stdout",
     "output_type": "stream",
     "text": [
      "[2100/3000] Train Loss: 0.365155 | Test Loss: 1.051912 | Rel L2: 0.050177 | LR: 1.28e-04\n"
     ]
    },
    {
     "name": "stderr",
     "output_type": "stream",
     "text": [
      " 73%|███████▎  | 2202/3000 [03:10<01:10, 11.33it/s]"
     ]
    },
    {
     "name": "stdout",
     "output_type": "stream",
     "text": [
      "[2200/3000] Train Loss: 0.356452 | Test Loss: 1.036160 | Rel L2: 0.049411 | LR: 1.28e-04\n"
     ]
    },
    {
     "name": "stderr",
     "output_type": "stream",
     "text": [
      " 77%|███████▋  | 2302/3000 [03:18<01:01, 11.28it/s]"
     ]
    },
    {
     "name": "stdout",
     "output_type": "stream",
     "text": [
      "[2300/3000] Train Loss: 0.344185 | Test Loss: 1.035632 | Rel L2: 0.049381 | LR: 1.02e-04\n"
     ]
    },
    {
     "name": "stderr",
     "output_type": "stream",
     "text": [
      " 80%|████████  | 2401/3000 [03:27<01:03,  9.38it/s]"
     ]
    },
    {
     "name": "stdout",
     "output_type": "stream",
     "text": [
      "[2400/3000] Train Loss: 0.343158 | Test Loss: 1.036900 | Rel L2: 0.049450 | LR: 1.02e-04\n"
     ]
    },
    {
     "name": "stderr",
     "output_type": "stream",
     "text": [
      " 83%|████████▎ | 2501/3000 [03:36<00:42, 11.71it/s]"
     ]
    },
    {
     "name": "stdout",
     "output_type": "stream",
     "text": [
      "[2500/3000] Train Loss: 0.346231 | Test Loss: 1.036513 | Rel L2: 0.049438 | LR: 1.02e-04\n"
     ]
    },
    {
     "name": "stderr",
     "output_type": "stream",
     "text": [
      " 87%|████████▋ | 2601/3000 [03:45<00:36, 10.96it/s]"
     ]
    },
    {
     "name": "stdout",
     "output_type": "stream",
     "text": [
      "[2600/3000] Train Loss: 0.349853 | Test Loss: 1.029992 | Rel L2: 0.049132 | LR: 1.02e-04\n"
     ]
    },
    {
     "name": "stderr",
     "output_type": "stream",
     "text": [
      " 90%|█████████ | 2701/3000 [03:54<00:25, 11.52it/s]"
     ]
    },
    {
     "name": "stdout",
     "output_type": "stream",
     "text": [
      "[2700/3000] Train Loss: 0.365723 | Test Loss: 1.038925 | Rel L2: 0.049542 | LR: 1.02e-04\n"
     ]
    },
    {
     "name": "stderr",
     "output_type": "stream",
     "text": [
      " 93%|█████████▎| 2801/3000 [04:03<00:21,  9.43it/s]"
     ]
    },
    {
     "name": "stdout",
     "output_type": "stream",
     "text": [
      "[2800/3000] Train Loss: 0.356920 | Test Loss: 1.027234 | Rel L2: 0.048997 | LR: 1.02e-04\n"
     ]
    },
    {
     "name": "stderr",
     "output_type": "stream",
     "text": [
      " 97%|█████████▋| 2901/3000 [04:12<00:08, 11.39it/s]"
     ]
    },
    {
     "name": "stdout",
     "output_type": "stream",
     "text": [
      "[2900/3000] Train Loss: 0.339684 | Test Loss: 1.031980 | Rel L2: 0.049224 | LR: 1.02e-04\n"
     ]
    },
    {
     "name": "stderr",
     "output_type": "stream",
     "text": [
      "100%|██████████| 3000/3000 [04:20<00:00, 11.51it/s]"
     ]
    },
    {
     "name": "stdout",
     "output_type": "stream",
     "text": [
      "[3000/3000] Train Loss: 0.336783 | Test Loss: 1.029295 | Rel L2: 0.049093 | LR: 8.19e-05\n",
      "The consuming time is: 261.8975176811218\n"
     ]
    },
    {
     "name": "stderr",
     "output_type": "stream",
     "text": [
      "\n"
     ]
    }
   ],
   "source": [
    "# Get solver and train\n",
    "solver = SolverDeepONet(x, a_train, u_train, a_test, u_test, DeepONet, LossClass, torch.optim.Adam, torch.optim.lr_scheduler.StepLR, hiperparms, device)\n",
    "solver.train()"
   ]
  },
  {
   "cell_type": "markdown",
   "id": "9170047e",
   "metadata": {},
   "source": [
    "#### Plotting the training results"
   ]
  },
  {
   "cell_type": "code",
   "execution_count": 12,
   "id": "8847b74b",
   "metadata": {},
   "outputs": [
    {
     "data": {
      "image/png": "[encoded data removed]",
      "text/plain": [
       "<Figure size 600x400 with 1 Axes>"
      ]
     },
     "metadata": {},
     "output_type": "display_data"
    },
    {
     "data": {
      "image/png": "[encoded data removed]",
      "text/plain": [
       "<Figure size 600x400 with 1 Axes>"
      ]
     },
     "metadata": {},
     "output_type": "display_data"
    }
   ],
   "source": [
    "solver.plot_training_results(save=True)"
   ]
  },
  {
   "cell_type": "markdown",
   "id": "1bfa00cf",
   "metadata": {},
   "source": [
    "#### Saving the model"
   ]
  },
  {
   "cell_type": "code",
   "execution_count": 13,
   "id": "6247142a",
   "metadata": {},
   "outputs": [],
   "source": [
    "solver.save_best_model()\n"
   ]
  },
  {
   "cell_type": "markdown",
   "id": "7f0e67ec",
   "metadata": {},
   "source": [
    "#### Plotting the resutls"
   ]
  },
  {
   "cell_type": "code",
   "execution_count": 14,
   "id": "95fef4ce",
   "metadata": {},
   "outputs": [
    {
     "name": "stdout",
     "output_type": "stream",
     "text": [
      "The test l2 error in the test whole dataset: 0.04909297823905945\n",
      "The test l2 error in the test case 0: 0.08003855496644974\n"
     ]
    },
    {
     "data": {
      "image/png": "[encoded data removed]",
      "text/plain": [
       "<Figure size 600x500 with 2 Axes>"
      ]
     },
     "metadata": {},
     "output_type": "display_data"
    },
    {
     "data": {
      "image/png": "[encoded data removed]",
      "text/plain": [
       "<Figure size 600x500 with 2 Axes>"
      ]
     },
     "metadata": {},
     "output_type": "display_data"
    },
    {
     "data": {
      "image/png": "[encoded data removed]",
      "text/plain": [
       "<Figure size 600x500 with 2 Axes>"
      ]
     },
     "metadata": {},
     "output_type": "display_data"
    }
   ],
   "source": [
    "plot_results(hiperparms, case_indx=0, save=True)"
   ]
  }
 ],
 "metadata": {
  "kernelspec": {
   "display_name": ".venv",
   "language": "python",
   "name": "python3"
  },
  "language_info": {
   "codemirror_mode": {
    "name": "ipython",
    "version": 3
   },
   "file_extension": ".py",
   "mimetype": "text/x-python",
   "name": "python",
   "nbconvert_exporter": "python",
   "pygments_lexer": "ipython3",
   "version": "3.12.0"
  }
 },
 "nbformat": 4,
 "nbformat_minor": 5
}
